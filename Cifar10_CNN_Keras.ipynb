{
  "nbformat": 4,
  "nbformat_minor": 0,
  "metadata": {
    "colab": {
      "name": "Cifar10 CNN Keras.ipynb",
      "provenance": []
    },
    "kernelspec": {
      "name": "python3",
      "display_name": "Python 3"
    },
    "accelerator": "GPU"
  },
  "cells": [
    {
      "cell_type": "markdown",
      "metadata": {
        "id": "ENP-hEs1fywe",
        "colab_type": "text"
      },
      "source": [
        "### Import Required Packages"
      ]
    },
    {
      "cell_type": "code",
      "metadata": {
        "id": "KSp2gP6Nfrpe",
        "colab_type": "code",
        "colab": {
          "base_uri": "https://localhost:8080/",
          "height": 34
        },
        "outputId": "7f4dd63b-125a-4ea1-b1cf-96f2e66ff94c"
      },
      "source": [
        "import os\n",
        "import tensorflow as tf\n",
        "device_name = tf.test.gpu_device_name()\n",
        "if device_name != '/device:GPU:0':\n",
        "    raise SystemError('GPU device not found')\n",
        "print('Found GPU at: {}'.format(device_name))\n",
        "\n",
        "from tensorflow import keras\n",
        "import matplotlib.pyplot as plt\n",
        "import numpy as np\n",
        "from IPython.display import clear_output\n",
        "from sklearn.metrics import confusion_matrix"
      ],
      "execution_count": 20,
      "outputs": [
        {
          "output_type": "stream",
          "text": [
            "Found GPU at: /device:GPU:0\n"
          ],
          "name": "stdout"
        }
      ]
    },
    {
      "cell_type": "markdown",
      "metadata": {
        "id": "i7ENGZLrf_Z9",
        "colab_type": "text"
      },
      "source": [
        "### Import Data"
      ]
    },
    {
      "cell_type": "code",
      "metadata": {
        "id": "odRMk69Of5Ar",
        "colab_type": "code",
        "colab": {}
      },
      "source": [
        "from keras.datasets import cifar10\n",
        "\n",
        "(x_train, y_train), (x_test, y_test) = cifar10.load_data()\n",
        "\n",
        "x_train = x_train.astype('float32') / 255.0\n",
        "x_test = x_test.astype('float32') / 255.0\n",
        "\n",
        "y_train = keras.utils.to_categorical(y_train, 10)\n",
        "y_test = keras.utils.to_categorical(y_test, 10)"
      ],
      "execution_count": 0,
      "outputs": []
    },
    {
      "cell_type": "markdown",
      "metadata": {
        "id": "All7jWUwglid",
        "colab_type": "text"
      },
      "source": [
        "### Create Model"
      ]
    },
    {
      "cell_type": "code",
      "metadata": {
        "id": "dOTwkPkBgoJo",
        "colab_type": "code",
        "colab": {
          "base_uri": "https://localhost:8080/",
          "height": 1000
        },
        "outputId": "7a8e56cd-2b71-47f0-dcb1-752cb00e841e"
      },
      "source": [
        "\n",
        "# Images start as 32 by 32 by 3\n",
        "model = keras.models.Sequential()\n",
        "\n",
        "# Convert to 32 by 32 by 32\n",
        "model.add(keras.layers.Conv2D(filters = 32, kernel_size = (3, 3), strides = (1, 1), padding = 'same', input_shape = x_train.shape[1:]))\n",
        "model.add(keras.layers.Activation('relu'))\n",
        "model.add(keras.layers.BatchNormalization())\n",
        "model.add(keras.layers.Conv2D(filters = 32, kernel_size = (3, 3), strides = (1, 1), padding = 'same', input_shape = x_train.shape[1:]))\n",
        "model.add(keras.layers.Activation('relu'))\n",
        "model.add(keras.layers.BatchNormalization())\n",
        "\n",
        "# Convert to 16 by 16 by 32\n",
        "model.add(keras.layers.MaxPooling2D(pool_size = (2, 2)))\n",
        "\n",
        "# Convert to 16 by 16 by 64\n",
        "model.add(keras.layers.Conv2D(filters = 64, kernel_size = (3, 3), strides = (1, 1), padding = 'same'))\n",
        "model.add(keras.layers.Activation('relu'))\n",
        "model.add(keras.layers.BatchNormalization())\n",
        "model.add(keras.layers.Conv2D(filters = 64, kernel_size = (3, 3), strides = (1, 1), padding = 'same'))\n",
        "model.add(keras.layers.Activation('relu'))\n",
        "model.add(keras.layers.BatchNormalization())\n",
        "\n",
        "# Convert to 8 by 8 by 64\n",
        "model.add(keras.layers.MaxPooling2D(pool_size = (2, 2)))\n",
        "\n",
        "# Convert to 8 by 8 by 128\n",
        "model.add(keras.layers.Conv2D(filters = 128, kernel_size = (3, 3), strides = (1, 1), padding = 'same'))\n",
        "model.add(keras.layers.Activation('relu'))\n",
        "model.add(keras.layers.BatchNormalization())\n",
        "model.add(keras.layers.Conv2D(filters = 128, kernel_size = (3, 3), strides = (1, 1), padding = 'same'))\n",
        "model.add(keras.layers.Activation('relu'))\n",
        "model.add(keras.layers.BatchNormalization())\n",
        "\n",
        "# Convert to 4 by 4 by 128\n",
        "model.add(keras.layers.MaxPooling2D(pool_size = (2, 2)))\n",
        "\n",
        "# Convert to FC layer\n",
        "model.add(keras.layers.Flatten())\n",
        "model.add(keras.layers.Dense(units = 10))\n",
        "model.add(keras.layers.Activation('softmax'))\n",
        "\n",
        "# Compile Model\n",
        "opt = keras.optimizers.RMSprop(learning_rate = .0001, decay = 1e-6)\n",
        "model.compile(loss = 'categorical_crossentropy', optimizer = opt, metrics = ['accuracy'])\n",
        "\n",
        "\n",
        "losses, accuracy = ([], [])\n",
        "\n",
        "\n",
        "model.summary()"
      ],
      "execution_count": 81,
      "outputs": [
        {
          "output_type": "stream",
          "text": [
            "Model: \"sequential_11\"\n",
            "_________________________________________________________________\n",
            "Layer (type)                 Output Shape              Param #   \n",
            "=================================================================\n",
            "conv2d_35 (Conv2D)           (None, 32, 32, 32)        896       \n",
            "_________________________________________________________________\n",
            "activation_55 (Activation)   (None, 32, 32, 32)        0         \n",
            "_________________________________________________________________\n",
            "batch_normalization_16 (Batc (None, 32, 32, 32)        128       \n",
            "_________________________________________________________________\n",
            "conv2d_36 (Conv2D)           (None, 32, 32, 32)        9248      \n",
            "_________________________________________________________________\n",
            "activation_56 (Activation)   (None, 32, 32, 32)        0         \n",
            "_________________________________________________________________\n",
            "batch_normalization_17 (Batc (None, 32, 32, 32)        128       \n",
            "_________________________________________________________________\n",
            "max_pooling2d_21 (MaxPooling (None, 16, 16, 32)        0         \n",
            "_________________________________________________________________\n",
            "conv2d_37 (Conv2D)           (None, 16, 16, 64)        18496     \n",
            "_________________________________________________________________\n",
            "activation_57 (Activation)   (None, 16, 16, 64)        0         \n",
            "_________________________________________________________________\n",
            "batch_normalization_18 (Batc (None, 16, 16, 64)        256       \n",
            "_________________________________________________________________\n",
            "conv2d_38 (Conv2D)           (None, 16, 16, 64)        36928     \n",
            "_________________________________________________________________\n",
            "activation_58 (Activation)   (None, 16, 16, 64)        0         \n",
            "_________________________________________________________________\n",
            "batch_normalization_19 (Batc (None, 16, 16, 64)        256       \n",
            "_________________________________________________________________\n",
            "max_pooling2d_22 (MaxPooling (None, 8, 8, 64)          0         \n",
            "_________________________________________________________________\n",
            "conv2d_39 (Conv2D)           (None, 8, 8, 128)         73856     \n",
            "_________________________________________________________________\n",
            "activation_59 (Activation)   (None, 8, 8, 128)         0         \n",
            "_________________________________________________________________\n",
            "batch_normalization_20 (Batc (None, 8, 8, 128)         512       \n",
            "_________________________________________________________________\n",
            "conv2d_40 (Conv2D)           (None, 8, 8, 128)         147584    \n",
            "_________________________________________________________________\n",
            "activation_60 (Activation)   (None, 8, 8, 128)         0         \n",
            "_________________________________________________________________\n",
            "batch_normalization_21 (Batc (None, 8, 8, 128)         512       \n",
            "_________________________________________________________________\n",
            "max_pooling2d_23 (MaxPooling (None, 4, 4, 128)         0         \n",
            "_________________________________________________________________\n",
            "flatten_10 (Flatten)         (None, 2048)              0         \n",
            "_________________________________________________________________\n",
            "dense_20 (Dense)             (None, 10)                20490     \n",
            "_________________________________________________________________\n",
            "activation_61 (Activation)   (None, 10)                0         \n",
            "=================================================================\n",
            "Total params: 309,290\n",
            "Trainable params: 308,394\n",
            "Non-trainable params: 896\n",
            "_________________________________________________________________\n"
          ],
          "name": "stdout"
        }
      ]
    },
    {
      "cell_type": "markdown",
      "metadata": {
        "id": "aNvvJwlmjnrR",
        "colab_type": "text"
      },
      "source": [
        "### Train Model"
      ]
    },
    {
      "cell_type": "code",
      "metadata": {
        "id": "ACj-jNJjjpNz",
        "colab_type": "code",
        "colab": {
          "base_uri": "https://localhost:8080/",
          "height": 890
        },
        "outputId": "cbdbfc98-d2dd-4a2f-cbb8-910ccfc95a67"
      },
      "source": [
        "for i in range(10):\n",
        "    \n",
        "    clear_output()\n",
        "    \n",
        "    l, a = model.evaluate(x_test, y_test)\n",
        "    losses.append(l)\n",
        "    accuracy.append(a)\n",
        "    \n",
        "    plt.clf()\n",
        "    plt.scatter(x = [10 * j for j in range(len(losses))], y = losses)\n",
        "    plt.show()\n",
        "    \n",
        "    preds = np.argmax(model.predict(x_test), axis = 1)\n",
        "    actuals = np.argmax(y_test, axis = 1)\n",
        "\n",
        "    print(confusion_matrix(preds, actuals))\n",
        "    \n",
        "    rand_image = np.random.choice(a = x_test.shape[0], size = 1)\n",
        "    plt.clf()\n",
        "    plt.imshow(x_test[rand_image].reshape(32, 32, 3))\n",
        "    plt.show()\n",
        "\n",
        "    classes = ['airplane', 'car', 'bird', 'cat', 'deer', 'dog', 'frog', 'horse', 'ship', 'truck']\n",
        "    probs = model.predict(x_test[rand_image])\n",
        "\n",
        "    output = {classes[i]: probs[0][i] for i in range(10)}\n",
        "\n",
        "    for k, v in output.items():\n",
        "        print(k + ': ' + str(v))\n",
        "        \n",
        "    model.fit(x_train, y_train, batch_size = 32, epochs = 10, shuffle = True, verbose = 0)\n",
        "        \n",
        "    \n",
        "    \n",
        "    "
      ],
      "execution_count": 82,
      "outputs": [
        {
          "output_type": "stream",
          "text": [
            "10000/10000 [==============================] - 1s 106us/sample - loss: 2.2588 - acc: 0.7174\n"
          ],
          "name": "stdout"
        },
        {
          "output_type": "display_data",
          "data": {
            "image/png": "[encoded data removed]",
            "text/plain": [
              "<Figure size 432x288 with 1 Axes>"
            ]
          },
          "metadata": {
            "tags": []
          }
        },
        {
          "output_type": "stream",
          "text": [
            "[[765  13  75  20  29  19   8  18  52  15]\n",
            " [ 10 796  11  14   6   6   7   8  20  56]\n",
            " [ 28   4 567  65  57  49  47  31   4   5]\n",
            " [ 20   6  82 582  82 208  73  50   9   9]\n",
            " [ 15   3  79  46 650  39  26  60   2   4]\n",
            " [  8   8  71 135  43 588  38  66   6   2]\n",
            " [  9  10  59  61  50  25 775  12   5   4]\n",
            " [  6   3  20  21  58  35   3 716   1   9]\n",
            " [ 91  45  20  31  16  16  16   8 876  37]\n",
            " [ 48 112  16  25   9  15   7  31  25 859]]\n"
          ],
          "name": "stdout"
        },
        {
          "output_type": "display_data",
          "data": {
            "image/png": "[encoded data removed]",
            "text/plain": [
              "<Figure size 432x288 with 1 Axes>"
            ]
          },
          "metadata": {
            "tags": []
          }
        },
        {
          "output_type": "stream",
          "text": [
            "airplane: 1.6356892e-10\n",
            "car: 5.377448e-13\n",
            "bird: 0.7196771\n",
            "cat: 0.277329\n",
            "deer: 0.0001998674\n",
            "dog: 3.825357e-08\n",
            "frog: 0.002793951\n",
            "horse: 7.600553e-08\n",
            "ship: 1.7736425e-17\n",
            "truck: 4.8979245e-12\n"
          ],
          "name": "stdout"
        }
      ]
    },
    {
      "cell_type": "code",
      "metadata": {
        "id": "Hq-guNi93Shj",
        "colab_type": "code",
        "colab": {
          "base_uri": "https://localhost:8080/",
          "height": 286
        },
        "outputId": "5731f02f-7dde-43de-f2d8-64da3e0b17eb"
      },
      "source": [
        "plt.clf()\n",
        "plt.scatter(x = [10 * j for j in range(len(losses))], y = accuracy)"
      ],
      "execution_count": 72,
      "outputs": [
        {
          "output_type": "execute_result",
          "data": {
            "text/plain": [
              "<matplotlib.collections.PathCollection at 0x7f56c8ceff98>"
            ]
          },
          "metadata": {
            "tags": []
          },
          "execution_count": 72
        },
        {
          "output_type": "display_data",
          "data": {
            "image/png": "[encoded data removed]",
            "text/plain": [
              "<Figure size 432x288 with 1 Axes>"
            ]
          },
          "metadata": {
            "tags": []
          }
        }
      ]
    }
  ]
}