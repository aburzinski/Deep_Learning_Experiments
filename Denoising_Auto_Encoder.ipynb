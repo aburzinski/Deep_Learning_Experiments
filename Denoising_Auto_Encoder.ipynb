{
  "nbformat": 4,
  "nbformat_minor": 0,
  "metadata": {
    "colab": {
      "name": "Denoising Auto-Encoder.ipynb",
      "provenance": []
    },
    "kernelspec": {
      "name": "python3",
      "display_name": "Python 3"
    },
    "accelerator": "GPU"
  },
  "cells": [
    {
      "cell_type": "markdown",
      "metadata": {
        "id": "Y-4DS_O0kxEV",
        "colab_type": "text"
      },
      "source": [
        "### Import Required Packages"
      ]
    },
    {
      "cell_type": "code",
      "metadata": {
        "id": "GlawFWZ2kmLw",
        "colab_type": "code",
        "colab": {
          "base_uri": "https://localhost:8080/",
          "height": 34
        },
        "outputId": "544d875b-9c47-4e2d-c935-83ad9106284e"
      },
      "source": [
        "import tensorflow as tf\n",
        "device_name = tf.test.gpu_device_name()\n",
        "if device_name != '/device:GPU:0':\n",
        "    raise SystemError('GPU device not found')\n",
        "print('Found GPU at: {}'.format(device_name))\n",
        "\n",
        "from tensorflow import keras\n",
        "import matplotlib.pyplot as plt\n",
        "import numpy as np"
      ],
      "execution_count": 1,
      "outputs": [
        {
          "output_type": "stream",
          "text": [
            "Found GPU at: /device:GPU:0\n"
          ],
          "name": "stdout"
        }
      ]
    },
    {
      "cell_type": "markdown",
      "metadata": {
        "id": "u3VAvJO1k9Lg",
        "colab_type": "text"
      },
      "source": [
        "### Import MNIST Data"
      ]
    },
    {
      "cell_type": "code",
      "metadata": {
        "id": "Lw0SdA25lA5Q",
        "colab_type": "code",
        "colab": {
          "base_uri": "https://localhost:8080/",
          "height": 34
        },
        "outputId": "c4852884-ec32-4db5-fa76-ab5dc5c22dc8"
      },
      "source": [
        "(x_train, y_train), (x_test, y_test) = keras.datasets.mnist.load_data()\n",
        "\n",
        "# Choose 10000 random images\n",
        "training_rows = np.random.choice(a = x_train.shape[0], size = 10000, replace = False)\n",
        "testing_rows = np.random.choice(a = x_test.shape[0], size = 1000, replace = False)\n",
        "\n",
        "X_train = x_train.reshape(x_train.shape[0], x_train.shape[1] * x_train.shape[2])[training_rows, :]\n",
        "X_test = x_test.reshape(x_test.shape[0], x_train.shape[1] * x_train.shape[2])[testing_rows, :]\n",
        "\n",
        "y_train = y_train[training_rows]\n",
        "y_test = y_test[testing_rows]\n",
        "\n",
        "y_train = keras.utils.to_categorical(y_train)\n",
        "y_test = keras.utils.to_categorical(y_test)\n",
        "\n",
        "X_train = X_train / 255.0\n",
        "X_test = X_test / 255.0"
      ],
      "execution_count": 4,
      "outputs": [
        {
          "output_type": "stream",
          "text": [
            "(10000, 784)\n"
          ],
          "name": "stdout"
        }
      ]
    },
    {
      "cell_type": "markdown",
      "metadata": {
        "id": "WoJnaV8AovkF",
        "colab_type": "text"
      },
      "source": [
        "### Add Noise to Training Data"
      ]
    },
    {
      "cell_type": "code",
      "metadata": {
        "id": "78OXWnO_oz_Y",
        "colab_type": "code",
        "colab": {
          "base_uri": "https://localhost:8080/",
          "height": 286
        },
        "outputId": "02dad8d6-f5e2-4cc1-ceef-7e21699735f8"
      },
      "source": [
        "noise_factor = .2\n",
        "\n",
        "X_train_noisy = X_train + noise_factor * np.random.normal(loc = 0.0, scale = 1.0, size = X_train.shape)\n",
        "\n",
        "rand_image = np.random.choice(a = X_train_noisy.shape[0], size = 1)\n",
        "plt.imshow(X_train_noisy[rand_image].reshape(28, 28), cmap = 'gray')"
      ],
      "execution_count": 18,
      "outputs": [
        {
          "output_type": "execute_result",
          "data": {
            "text/plain": [
              "<matplotlib.image.AxesImage at 0x7f7b3818ef28>"
            ]
          },
          "metadata": {
            "tags": []
          },
          "execution_count": 18
        },
        {
          "output_type": "display_data",
          "data": {
            "image/png": "[encoded data removed]",
            "text/plain": [
              "<Figure size 432x288 with 1 Axes>"
            ]
          },
          "metadata": {
            "tags": []
          }
        }
      ]
    },
    {
      "cell_type": "code",
      "metadata": {
        "id": "gPDczLLUqyvi",
        "colab_type": "code",
        "colab": {}
      },
      "source": [
        ""
      ],
      "execution_count": 0,
      "outputs": []
    },
    {
      "cell_type": "markdown",
      "metadata": {
        "id": "YDIiID44nUBJ",
        "colab_type": "text"
      },
      "source": [
        "### Create Model in Keras"
      ]
    },
    {
      "cell_type": "code",
      "metadata": {
        "id": "gt3lSbSqndDu",
        "colab_type": "code",
        "colab": {
          "base_uri": "https://localhost:8080/",
          "height": 301
        },
        "outputId": "07b09595-1526-4210-8176-c8d8aac42949"
      },
      "source": [
        "model = keras.Sequential()\n",
        "\n",
        "model.add(keras.layers.Dense(units = 1000, input_dim = 784, activation = 'relu'))\n",
        "model.add(keras.layers.Dense(units = 784, input_dim = 1000, activation = 'sigmoid'))\n",
        "\n",
        "model.compile(loss = 'binary_crossentropy', optimizer = 'SGD')\n",
        "\n",
        "model.summary()"
      ],
      "execution_count": 34,
      "outputs": [
        {
          "output_type": "stream",
          "text": [
            "WARNING:tensorflow:From /usr/local/lib/python3.6/dist-packages/tensorflow/python/ops/nn_impl.py:180: add_dispatch_support.<locals>.wrapper (from tensorflow.python.ops.array_ops) is deprecated and will be removed in a future version.\n",
            "Instructions for updating:\n",
            "Use tf.where in 2.0, which has the same broadcast rule as np.where\n",
            "Model: \"sequential_6\"\n",
            "_________________________________________________________________\n",
            "Layer (type)                 Output Shape              Param #   \n",
            "=================================================================\n",
            "dense_30 (Dense)             (None, 1000)              785000    \n",
            "_________________________________________________________________\n",
            "dense_31 (Dense)             (None, 784)               784784    \n",
            "=================================================================\n",
            "Total params: 1,569,784\n",
            "Trainable params: 1,569,784\n",
            "Non-trainable params: 0\n",
            "_________________________________________________________________\n"
          ],
          "name": "stdout"
        }
      ]
    },
    {
      "cell_type": "markdown",
      "metadata": {
        "id": "MUlMzr3hosh4",
        "colab_type": "text"
      },
      "source": [
        "### Train Model"
      ]
    },
    {
      "cell_type": "code",
      "metadata": {
        "id": "mpXAebuRreD9",
        "colab_type": "code",
        "colab": {}
      },
      "source": [
        "model.fit(X_train_noisy, X_train, batch_size = 32, epochs = 300)"
      ],
      "execution_count": 0,
      "outputs": []
    },
    {
      "cell_type": "markdown",
      "metadata": {
        "id": "b_UknIyCrx_c",
        "colab_type": "text"
      },
      "source": [
        "### Check Model Output"
      ]
    },
    {
      "cell_type": "code",
      "metadata": {
        "id": "0skouzvUr0Mc",
        "colab_type": "code",
        "colab": {
          "base_uri": "https://localhost:8080/",
          "height": 826
        },
        "outputId": "8fcae9dd-f35c-49ed-c0a2-b8f9ebfe7d20"
      },
      "source": [
        "rand_image = np.random.choice(a = X_train_noisy.shape[0], size = 1)\n",
        "\n",
        "print('Original Image')\n",
        "plt.imshow(X_train[rand_image].reshape(28, 28), cmap = 'gray')\n",
        "plt.show()\n",
        "\n",
        "print('Noisy Image')\n",
        "plt.clf()\n",
        "plt.imshow(X_train_noisy[rand_image].reshape(28, 28), cmap = 'gray')\n",
        "plt.show()\n",
        "\n",
        "print('De-Noised Image')\n",
        "plt.clf()\n",
        "plt.imshow(model.predict(X_train_noisy[rand_image]).reshape(28, 28), cmap = 'gray')\n",
        "plt.show()"
      ],
      "execution_count": 43,
      "outputs": [
        {
          "output_type": "stream",
          "text": [
            "Original Image\n"
          ],
          "name": "stdout"
        },
        {
          "output_type": "display_data",
          "data": {
            "image/png": "[encoded data removed]",
            "text/plain": [
              "<Figure size 432x288 with 1 Axes>"
            ]
          },
          "metadata": {
            "tags": []
          }
        },
        {
          "output_type": "stream",
          "text": [
            "Noisy Image\n"
          ],
          "name": "stdout"
        },
        {
          "output_type": "display_data",
          "data": {
            "image/png": "[encoded data removed]",
            "text/plain": [
              "<Figure size 432x288 with 1 Axes>"
            ]
          },
          "metadata": {
            "tags": []
          }
        },
        {
          "output_type": "stream",
          "text": [
            "De-Noised Image\n"
          ],
          "name": "stdout"
        },
        {
          "output_type": "display_data",
          "data": {
            "image/png": "[encoded data removed]",
            "text/plain": [
              "<Figure size 432x288 with 1 Axes>"
            ]
          },
          "metadata": {
            "tags": []
          }
        }
      ]
    }
  ]
}